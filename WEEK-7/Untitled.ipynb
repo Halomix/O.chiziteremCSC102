{
 "cells": [
  {
   "cell_type": "code",
   "execution_count": 2,
   "id": "658f5b03",
   "metadata": {},
   "outputs": [
    {
     "name": "stdout",
     "output_type": "stream",
     "text": [
      "Enter course: Computer Science\n",
      "Enter Jamb score: 250\n",
      "Enter Credits: 6\n",
      "Enter interview status (True or False): True\n",
      "Admitted\n"
     ]
    }
   ],
   "source": []
  },
  {
   "cell_type": "code",
   "execution_count": null,
   "id": "42119db9",
   "metadata": {},
   "outputs": [],
   "source": [
    "import pandas as pd\n",
    "\n",
    "def computer_science(course, score, credit, interview):\n",
    "    criteria = {'course': [],\n",
    "                'score': [],   \n",
    "                'credit': [],\n",
    "                'interview': []}\n",
    "\n",
    "    if course == 'Computer Science':\n",
    "        if score >= 230:\n",
    "            if credit >= 5:\n",
    "                if interview == 'True':   \n",
    "                    return 'Admitted'\n",
    "                else:\n",
    "                    return 'Not admitted'\n",
    "        elif course == 'Mass Communication':   \n",
    "            if score >= 220:\n",
    "                if credit >= 5:\n",
    "                    if interview == 'True':\n",
    "                        return 'Admitted'\n",
    "                    else:\n",
    "                        return 'Not admitted'\n",
    "    else:\n",
    "        return 'Invalid course'\n",
    "\n",
    "\n",
    "course = input(\"Enter course: \")\n",
    "score = int(input(\"Enter Jamb score: \"))\n",
    "credit = int(input(\"Enter Credits: \"))\n",
    "interview = input(\"Enter interview status (True or False): \")\n",
    "\n",
    "\n",
    "result = computer_science(course, score, credit, interview)\n",
    "print(result)\n",
    "\n",
    "\n",
    "if result == 'Admitted':\n",
    "    df = pd.DataFrame({'course': [course], 'score': [score], 'credit': [credit], 'interview': [interview]})\n",
    "    df.to_csv('admitted.csv', index=True) \n",
    "else:\n",
    "    df = pd.DataFrame({'course': [course], 'score': [score], 'credit': [credit], 'interview': [interview]})\n",
    "    df.to_csv('not-admitted.csv', index=False)  \n",
    "\n"
   ]
  }
 ],
 "metadata": {
  "kernelspec": {
   "display_name": "Python 3 (ipykernel)",
   "language": "python",
   "name": "python3"
  },
  "language_info": {
   "codemirror_mode": {
    "name": "ipython",
    "version": 3
   },
   "file_extension": ".py",
   "mimetype": "text/x-python",
   "name": "python",
   "nbconvert_exporter": "python",
   "pygments_lexer": "ipython3",
   "version": "3.10.9"
  }
 },
 "nbformat": 4,
 "nbformat_minor": 5
}
