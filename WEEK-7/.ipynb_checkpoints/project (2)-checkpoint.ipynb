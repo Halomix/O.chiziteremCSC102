{
 "cells": [
  {
   "cell_type": "code",
   "execution_count": 11,
   "metadata": {},
   "outputs": [
    {
     "name": "stdout",
     "output_type": "stream",
     "text": [
      "Enter Surname: EBI\n",
      "Enter Firstname: Stephanie\n",
      "Enter Department: Accounting\n",
      "Welcome, employee!\n",
      "     S/N           SURNAME     FIRST NAME      DEPARTMENT  Unnamed: 4\n",
      "0    1.0          ADENIRAN  Oluwatamilore       Logistics         NaN\n",
      "1    2.0           ADEWUMI        Ayomide      Accounting         NaN\n",
      "2    3.0       ADOH-AJAGBE          Oshim        Delivery         NaN\n",
      "3    4.0  AGBAKURU- \\NWOGU    Chukwunonye      Accounting         NaN\n",
      "4    5.0         AGBAKWURU     Chiemeziem       Logistics         NaN\n",
      "5    6.0            AKINDE   Oluwatimehin      Accounting         NaN\n",
      "6    7.0            ARNIKA          Osose       Logistics         NaN\n",
      "7    8.0            ATELLY         Daniel        Delivery         NaN\n",
      "8    9.0             AZOGU      Onyekachi        Delivery         NaN\n",
      "9   10.0            BETURE         Shalom        Delivery         NaN\n",
      "10  11.0          CHUKWUMA           Nedi       Logistics         NaN\n",
      "11  12.0               EBI      Stephanie      Accounting         NaN\n",
      "12  13.0            EGBORO          Jason  Administration         NaN\n",
      "13  14.0           EJEDIMU         Edward        Delivery         NaN\n",
      "14  15.0             ELERI            Otu  Administration         NaN\n",
      "15  16.0               EZE     Onyinyechi  Administration         NaN\n",
      "16  17.0           EZEONYE    Makuochukwu       Logistics         NaN\n",
      "17  18.0              GIWA       Moyosore       Logistics         NaN\n",
      "18  19.0              ICHA        Ayonete      Accounting         NaN\n",
      "19  20.0            IKPATI           Eche      Accounting         NaN\n",
      "20  21.0         ILOENYOSI        Michael        Delivery         NaN\n",
      "21  22.0             IYAWE  Oluwadamilola        Delivery         NaN\n",
      "22  23.0           NWOKOLO       Chijindu       Logistics         NaN\n",
      "23  24.0         NWOTOKUBO         Joseph       Logistics         NaN\n",
      "24  25.0          OBASOGIE          Daisy      Accounting         NaN\n",
      "25  26.0              OBI          Samuel      Accounting         NaN\n",
      "26  27.0           OBIALOR          Betha      Accounting         NaN\n",
      "27  28.0           OGBONNA     Boluwatife        Delivery         NaN\n",
      "28  29.0         OIGBOCHIE           Mary        Delivery         NaN\n",
      "29  30.0      OKOCHA-OJEAH        Raphael  Administration         NaN\n",
      "30  31.0             OKOLO         Victor  Administration         NaN\n",
      "31  32.0             OKORO          Derek       Logistics         NaN\n",
      "32  33.0         OLOWOKERE        Akorede      Accounting         NaN\n",
      "33  34.0          OLUBUADE        Rasheed      Accounting         NaN\n",
      "34  35.0           OSEMEKE         Daniel      Accounting         NaN\n",
      "35  36.0             OSSAI   Mary-Cynthia       Logistics         NaN\n",
      "36  37.0             PETER         Owoede       Logistics         NaN\n",
      "37  38.0            QUADRI   Oluwafikunmi        Delivery         NaN\n",
      "38  39.0           UDE-IBE        Uchenna        Delivery         NaN\n",
      "39  40.0              UMEH          Ejike  Administration         NaN\n",
      "40   NaN               NaN            NaN             NaN         NaN\n"
     ]
    }
   ],
   "source": [
    "import pandas as pd\n",
    "\n",
    "def jt_ventures(surname, firstname, department):\n",
    "    # Making a data frame from the CSV file\n",
    "    jt = pd.read_csv(\"jt-ventures.csv\")\n",
    "\n",
    "    # Checking if the employee exists in the CSV file\n",
    "    if ((jt['SURNAME'] == surname) & (jt['FIRST NAME'] == firstname) & (jt['DEPARTMENT'] == department)).any():\n",
    "        print(\"Welcome, employee!\")\n",
    "        print(jt)  # Printing the CSV file or company profile\n",
    "    else:\n",
    "        print(\"Employee does not exist\")\n",
    "\n",
    "# Collecting user input for Surname, Firstname, and Department\n",
    "surname = input(\"Enter Surname: \")\n",
    "firstname = input(\"Enter Firstname: \")\n",
    "department = input(\"Enter Department: \")\n",
    "\n",
    "# Calling the function to run the code\n",
    "jt_ventures(surname, firstname, department)\n"
   ]
  },
  {
   "cell_type": "code",
   "execution_count": 5,
   "metadata": {},
   "outputs": [
    {
     "name": "stdout",
     "output_type": "stream",
     "text": [
      "Enter delivery location (Ibeju-Lekki or Epe): Epe\n",
      "Enter package weight in kg: 8\n",
      "delivery charge is  4000\n"
     ]
    }
   ],
   "source": [
    "\n",
    "def yega_services(location, weight):\n",
    "    if location == 'Ibeju-Lekki':\n",
    "        if weight >= 10:\n",
    "            return 2000\n",
    "        else:\n",
    "            return 1500\n",
    "    elif location == 'Epe':\n",
    "        if weight >= 10:\n",
    "            return 5000\n",
    "        else:\n",
    "            return 4000\n",
    "    else:\n",
    "        return 'Invalid location'\n",
    "location = input(\"Enter delivery location (Ibeju-Lekki or Epe): \")\n",
    "weight = float(input(\"Enter package weight in kg: \"))\n",
    "charge = yega_services(location,weight)\n",
    "print(\"delivery charge is \",charge)\n",
    "\n"
   ]
  },
  {
   "cell_type": "code",
   "execution_count": 10,
   "metadata": {},
   "outputs": [
    {
     "name": "stdout",
     "output_type": "stream",
     "text": [
      "Enter course: Computer Science\n",
      "Enter Jamb score: 210\n",
      "Enter Credits: 4\n",
      "Enter interview status (True or False): False\n",
      "None\n"
     ]
    }
   ],
   "source": [
    "import pandas as pd\n",
    "\n",
    "def computer_science(course, score, credit, interview):\n",
    "    criteria = {'course': [],\n",
    "                'score': [],   \n",
    "                'credit': [],\n",
    "                'interview': []}\n",
    "\n",
    "    if course == 'Computer Science':\n",
    "        if score >= 230:\n",
    "            if credit >= 5:\n",
    "                if interview == 'True':   \n",
    "                    return 'Admitted'\n",
    "                else:\n",
    "                    return 'Not admitted'\n",
    "        elif course == 'Mass Communication':   \n",
    "            if score >= 220:\n",
    "                if credit >= 5:\n",
    "                    if interview == 'True':\n",
    "                        return 'Admitted'\n",
    "                    else:\n",
    "                        return 'Not admitted'\n",
    "    else:\n",
    "        return 'Invalid course'\n",
    "\n",
    "\n",
    "course = input(\"Enter course: \")\n",
    "score = int(input(\"Enter Jamb score: \"))\n",
    "credit = int(input(\"Enter Credits: \"))\n",
    "interview = input(\"Enter interview status (True or False): \")\n",
    "\n",
    "\n",
    "result = computer_science(course, score, credit, interview)\n",
    "print(result)\n",
    "\n",
    "\n",
    "if result == 'Admitted':\n",
    "    df = pd.DataFrame({'course': [course], 'score': [score], 'credit': [credit], 'interview': [interview]})\n",
    "    df.to_csv('admitted.csv', index=True) \n",
    "else:\n",
    "    df = pd.DataFrame({'course': [course], 'score': [score], 'credit': [credit], 'interview': [interview]})\n",
    "    df.to_csv('not-admitted.csv', index=False)  \n"
   ]
  },
  {
   "cell_type": "code",
   "execution_count": null,
   "metadata": {},
   "outputs": [],
   "source": []
  },
  {
   "cell_type": "code",
   "execution_count": null,
   "metadata": {},
   "outputs": [],
   "source": []
  }
 ],
 "metadata": {
  "kernelspec": {
   "display_name": "Python 3 (ipykernel)",
   "language": "python",
   "name": "python3"
  },
  "language_info": {
   "codemirror_mode": {
    "name": "ipython",
    "version": 3
   },
   "file_extension": ".py",
   "mimetype": "text/x-python",
   "name": "python",
   "nbconvert_exporter": "python",
   "pygments_lexer": "ipython3",
   "version": "3.10.9"
  }
 },
 "nbformat": 4,
 "nbformat_minor": 4
}
