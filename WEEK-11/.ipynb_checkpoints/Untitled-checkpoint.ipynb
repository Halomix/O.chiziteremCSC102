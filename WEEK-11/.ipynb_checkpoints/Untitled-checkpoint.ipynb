{
 "cells": [
  {
   "cell_type": "code",
   "execution_count": 10,
   "id": "fcc3dc3e",
   "metadata": {},
   "outputs": [
    {
     "name": "stdout",
     "output_type": "stream",
     "text": [
      "Enter Accelerator value: 12\n",
      "Enter Your initial speed: 23\n",
      "Enter Your Final speed: 87\n",
      "293.3333333333333\n"
     ]
    }
   ],
   "source": [
    "class Car:\n",
    "    def calculator(self):\n",
    "        a = float(input(\"Enter Accelerator value: \"))\n",
    "        u = float(input(\"Enter Your initial speed: \"))\n",
    "        v = float(input(\"Enter Your Final speed: \"))\n",
    "        s = (v ** 2 - u ** 2) / (2 * a)\n",
    "        print(s)\n",
    "\n",
    "car = Car()\n",
    "car.calculator()\n"
   ]
  },
  {
   "cell_type": "code",
   "execution_count": null,
   "id": "be96bf55",
   "metadata": {},
   "outputs": [],
   "source": [
    "class Car:\n",
    "    distance = 0\n",
    "    def __init__():\n",
    "        print(\"Car has been created\")\n",
    "    def drive(d = 1):\n",
    "        distance += d\n",
    "    def drive_specific(v,u,a):\n",
    "        distance += (v ** 2 - u ** 2) / (2 * a)\n",
    "    def drive_prompt():\n",
    "        a = float(input(\"Enter Accelerator value: \"))\n",
    "        u = float(input(\"Enter Your initial speed: \"))\n",
    "        v = float(input(\"Enter Your Final speed: \"))\n",
    "        drive_specific(v,u,a)\n",
    "    def display_distance():\n",
    "        print(\"the car has moved\",d,\"meters\")\n",
    "car = Car()\n",
    "\n",
    "car.drive(10)\n",
    "car.display_distance()\n",
    "car.drive_prompt()\n",
    "car.display_distance()\n",
    "\n",
    "    "
   ]
  }
 ],
 "metadata": {
  "kernelspec": {
   "display_name": "Python 3 (ipykernel)",
   "language": "python",
   "name": "python3"
  },
  "language_info": {
   "codemirror_mode": {
    "name": "ipython",
    "version": 3
   },
   "file_extension": ".py",
   "mimetype": "text/x-python",
   "name": "python",
   "nbconvert_exporter": "python",
   "pygments_lexer": "ipython3",
   "version": "3.10.9"
  }
 },
 "nbformat": 4,
 "nbformat_minor": 5
}
