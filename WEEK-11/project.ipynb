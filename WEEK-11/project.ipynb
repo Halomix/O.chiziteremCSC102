{
 "cells": [
  {
   "cell_type": "code",
   "execution_count": 4,
   "id": "a6fe528c",
   "metadata": {},
   "outputs": [
    {
     "name": "stdout",
     "output_type": "stream",
     "text": [
      "Welcome to the SIS\n",
      "The_Pirates.csv file created successfully!\n",
      "The_Yankees.csv file created successfully!\n",
      "The_Bulls.csv file created successfully!\n"
     ]
    }
   ],
   "source": [
    "import pandas as pd\n",
    "\n",
    "class SIS:\n",
    "    def __init__(self):\n",
    "        print(\"Welcome to the SIS\")\n",
    "\n",
    "    def classify_students(self):\n",
    "        # Read data from sis.csv\n",
    "        data = pd.read_csv(\"sis.csv\")\n",
    "        \n",
    "        # Filter students based on age categories\n",
    "        pirates = data[(data['Age'] > 14) & (data['Age'] < 18)]\n",
    "        yankees = data[(data['Age'] > 18) & (data['Age'] < 22)]\n",
    "        bulls = data[data['Age'] > 22]\n",
    "        \n",
    "        # Save data to CSV files\n",
    "        pirates.to_csv('The_Pirates.csv', index=False)\n",
    "        yankees.to_csv('The_Yankees.csv', index=False)\n",
    "        bulls.to_csv('The_Bulls.csv', index=False)\n",
    "        \n",
    "        # Display messages\n",
    "        print(\"The_Pirates.csv file created successfully!\")\n",
    "        print(\"The_Yankees.csv file created successfully!\")\n",
    "        print(\"The_Bulls.csv file created successfully!\")\n",
    "\n",
    "# Create an instance of the SIS class\n",
    "sis = SIS()\n",
    "\n",
    "# Call the method to classify students\n",
    "sis.classify_students()\n"
   ]
  },
  {
   "cell_type": "code",
   "execution_count": null,
   "id": "a5dc858b",
   "metadata": {},
   "outputs": [],
   "source": []
  }
 ],
 "metadata": {
  "kernelspec": {
   "display_name": "Python 3 (ipykernel)",
   "language": "python",
   "name": "python3"
  },
  "language_info": {
   "codemirror_mode": {
    "name": "ipython",
    "version": 3
   },
   "file_extension": ".py",
   "mimetype": "text/x-python",
   "name": "python",
   "nbconvert_exporter": "python",
   "pygments_lexer": "ipython3",
   "version": "3.10.9"
  }
 },
 "nbformat": 4,
 "nbformat_minor": 5
}
