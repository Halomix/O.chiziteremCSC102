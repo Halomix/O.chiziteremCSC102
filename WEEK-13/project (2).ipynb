{
 "cells": [
  {
   "cell_type": "code",
   "execution_count": 6,
   "id": "d781e6ed",
   "metadata": {},
   "outputs": [
    {
     "name": "stdout",
     "output_type": "stream",
     "text": [
      "Enter company name: Dune\n",
      "Enter company shares: 800000\n",
      "Enter company liability: 300000\n",
      "Enter founding date: 2008\n"
     ]
    }
   ],
   "source": [
    "\n",
    "import pandas as pd\n",
    "\n",
    "class STOCKMANAGEMENT:\n",
    "    def STOCK(self, company_name, COMPANY_SHARES, COMPANY_LIABILITY, DATE):\n",
    "        LEVERAGES = (COMPANY_SHARES - COMPANY_LIABILITY) / COMPANY_SHARES * 100\n",
    "\n",
    "        data = {\n",
    "           \"COMPANY\": [company_name],\n",
    "           \"COMPANY SHARES\": [COMPANY_SHARES],\n",
    "           \"COMPANY LIABILITY\": [COMPANY_LIABILITY],\n",
    "           \"FOUNDED(DATE)\": [DATE],\n",
    "           \"PERCENTAGE LEVERAGES\": [LEVERAGES],\n",
    "        }\n",
    "\n",
    "        df = pd.DataFrame(data)\n",
    "        df.to_csv(\"STOCK_MANAGEMENT.csv\", index=False)\n",
    "\n",
    "company_name = input(\"Enter company name: \")\n",
    "COMPANY_SHARES = int(input(\"Enter company shares: \"))\n",
    "COMPANY_LIABILITY = int(input(\"Enter company liability: \"))\n",
    "DATE = input(\"Enter founding date: \")\n",
    "\n",
    "Obj = STOCKMANAGEMENT()\n",
    "Obj.STOCK(company_name, COMPANY_SHARES, COMPANY_LIABILITY, DATE)"
   ]
  },
  {
   "cell_type": "code",
   "execution_count": null,
   "id": "c97f427c",
   "metadata": {},
   "outputs": [],
   "source": [
    "import pandas as pd\n",
    "\n",
    "class PAU_SIMS:\n",
    "\n",
    "    def __init__(self, Student_Name, Department, Matric_Number, level):\n",
    "        self.Student_Name = Student_Name\n",
    "        self.Department = Department\n",
    "        self.Matric_Number = Matric_Number\n",
    "        self.level = level\n",
    "\n",
    "    def Input_Management(self):\n",
    "        data = {\n",
    "            \"Student Name\": [self.Student_Name],\n",
    "            \"Matric Number\": [self.Matric_Number],\n",
    "            \"Department\": [self.Department],\n",
    "            \"Level\": [self.level],\n",
    "        }\n",
    "\n",
    "        df = pd.DataFrame(data)\n",
    "        df.to_csv('DATA_MANAGEMENT.csv', index=False)\n",
    "        print(df)\n",
    "\n",
    "Student_Name = input(\"ENTER YOUR NAME: \")\n",
    "Matric_Number = int(input(\"ENTER YOUR MATRIC NUMBER: \"))\n",
    "Department = input(\"ENTER YOUR DEPARTMENT: \")\n",
    "level = int(input(\"ENTER YOUR LEVEL: \"))\n",
    "\n",
    "obj = PAU_SIMS(Student_Name, Department, Matric_Number, level)\n",
    "obj.Input_Management()\n",
    "\n"
   ]
  },
  {
   "cell_type": "code",
   "execution_count": null,
   "id": "9941f494",
   "metadata": {},
   "outputs": [],
   "source": []
  }
 ],
 "metadata": {
  "kernelspec": {
   "display_name": "Python 3 (ipykernel)",
   "language": "python",
   "name": "python3"
  },
  "language_info": {
   "codemirror_mode": {
    "name": "ipython",
    "version": 3
   },
   "file_extension": ".py",
   "mimetype": "text/x-python",
   "name": "python",
   "nbconvert_exporter": "python",
   "pygments_lexer": "ipython3",
   "version": "3.10.9"
  }
 },
 "nbformat": 4,
 "nbformat_minor": 5
}
