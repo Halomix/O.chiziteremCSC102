{
 "cells": [
  {
   "cell_type": "code",
   "execution_count": 7,
   "id": "86e7384d",
   "metadata": {},
   "outputs": [
    {
     "name": "stdout",
     "output_type": "stream",
     "text": [
      "Enter your first_name :chixxy\n",
      "Enter last_nameokechukwu\n",
      "Enter age113\n",
      "Enter your first_name2:awele\n",
      "Enter last_name2 :chizim\n",
      "Enter age2 :20\n",
      "chixxy okechukwu 20\n",
      "awele chizim 13\n"
     ]
    }
   ],
   "source": [
    "Fname1 = input(\"Enter your first_name :\")\n",
    "Lname1 = input(\"Enter last_name\")\n",
    "Age1   = int(input(\"Enter age1\"))\n",
    "\n",
    "\n",
    "Fname2 = input(\"Enter your first_name2:\")\n",
    "Lname2 = input(\"Enter last_name2 :\")\n",
    "Age2   = int(input(\"Enter age2 :\"))\n",
    "\n",
    "print(Fname1,Lname1,Age2)\n",
    "print(Fname2,Lname2,Age1)\n",
    "\n",
    "\n",
    "\n",
    "\n"
   ]
  },
  {
   "cell_type": "code",
   "execution_count": 26,
   "id": "4821eb23",
   "metadata": {},
   "outputs": [
    {
     "name": "stdout",
     "output_type": "stream",
     "text": [
      "CHECKOUT PSUEDOCODE\n",
      "Welcome to halo's checkout\n",
      "Enter total :3000\n",
      "Enter Amount paid :5000\n",
      "Amount due is : 0.0\n"
     ]
    }
   ],
   "source": [
    "print(\"CHECKOUT PSUEDOCODE\")\n",
    "print( \"Welcome to halo's checkout\")\n",
    "\n",
    "PRICE  = float(input(\"Enter total :\"))\n",
    "PAID   = float(input(\"Enter Amount paid :\"))\n",
    "CHANGE = PAID - PAID\n",
    "\n",
    "if PAID >= PRICE:\n",
    "    print(\"Amount due is :\", CHANGE)\n",
    "\n",
    "else:\n",
    "    if PAID < PRICE:\n",
    "    \n",
    "      print(\"Your change is :\",-CHANGE)\n"
   ]
  },
  {
   "cell_type": "code",
   "execution_count": null,
   "id": "66219a07",
   "metadata": {},
   "outputs": [],
   "source": []
  },
  {
   "cell_type": "code",
   "execution_count": null,
   "id": "952ab179",
   "metadata": {},
   "outputs": [],
   "source": []
  }
 ],
 "metadata": {
  "kernelspec": {
   "display_name": "Python 3 (ipykernel)",
   "language": "python",
   "name": "python3"
  },
  "language_info": {
   "codemirror_mode": {
    "name": "ipython",
    "version": 3
   },
   "file_extension": ".py",
   "mimetype": "text/x-python",
   "name": "python",
   "nbconvert_exporter": "python",
   "pygments_lexer": "ipython3",
   "version": "3.10.9"
  }
 },
 "nbformat": 4,
 "nbformat_minor": 5
}
