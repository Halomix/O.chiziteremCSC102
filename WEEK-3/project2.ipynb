{
 "cells": [
  {
   "cell_type": "code",
   "execution_count": 2,
   "id": "587ee39f",
   "metadata": {},
   "outputs": [
    {
     "name": "stdout",
     "output_type": "stream",
     "text": [
      "Enter coefficient of x^3:3\n",
      "Enter coefficient of x^2:7\n",
      "Enter coefficient of x:5\n",
      "Enter  D:6\n"
     ]
    },
    {
     "ename": "TypeError",
     "evalue": "unsupported operand type(s) for ** or pow(): 'str' and 'int'",
     "output_type": "error",
     "traceback": [
      "\u001b[1;31m---------------------------------------------------------------------------\u001b[0m",
      "\u001b[1;31mTypeError\u001b[0m                                 Traceback (most recent call last)",
      "Cell \u001b[1;32mIn[2], line 6\u001b[0m\n\u001b[0;32m      3\u001b[0m c \u001b[38;5;241m=\u001b[39m \u001b[38;5;28minput\u001b[39m((\u001b[38;5;124m\"\u001b[39m\u001b[38;5;124mEnter coefficient of x:\u001b[39m\u001b[38;5;124m\"\u001b[39m))\n\u001b[0;32m      4\u001b[0m d \u001b[38;5;241m=\u001b[39m \u001b[38;5;28minput\u001b[39m((\u001b[38;5;124m\"\u001b[39m\u001b[38;5;124mEnter  D:\u001b[39m\u001b[38;5;124m\"\u001b[39m))\n\u001b[1;32m----> 6\u001b[0m delta_0 \u001b[38;5;241m=\u001b[39m \u001b[43mb\u001b[49m\u001b[38;5;241;43m*\u001b[39;49m\u001b[38;5;241;43m*\u001b[39;49m\u001b[38;5;241;43m2\u001b[39;49m \u001b[38;5;241m-\u001b[39m \u001b[38;5;241m3\u001b[39m\u001b[38;5;241m*\u001b[39ma\u001b[38;5;241m*\u001b[39mc\n\u001b[0;32m      7\u001b[0m delta_1 \u001b[38;5;241m=\u001b[39m \u001b[38;5;241m2\u001b[39m\u001b[38;5;241m*\u001b[39mb\u001b[38;5;241m*\u001b[39m\u001b[38;5;241m*\u001b[39m\u001b[38;5;241m3\u001b[39m \u001b[38;5;241m-\u001b[39m \u001b[38;5;241m9\u001b[39m\u001b[38;5;241m*\u001b[39ma\u001b[38;5;241m*\u001b[39mb\u001b[38;5;241m*\u001b[39mc \u001b[38;5;241m+\u001b[39m \u001b[38;5;241m27\u001b[39m\u001b[38;5;241m*\u001b[39ma\u001b[38;5;241m*\u001b[39m\u001b[38;5;241m*\u001b[39m\u001b[38;5;241m2\u001b[39m\u001b[38;5;241m*\u001b[39md\n\u001b[0;32m      8\u001b[0m C \u001b[38;5;241m=\u001b[39m ((delta_1 \u001b[38;5;241m+\u001b[39m cmath\u001b[38;5;241m.\u001b[39msqrt(delta_1\u001b[38;5;241m*\u001b[39m\u001b[38;5;241m*\u001b[39m\u001b[38;5;241m2\u001b[39m \u001b[38;5;241m-\u001b[39m \u001b[38;5;241m4\u001b[39m\u001b[38;5;241m*\u001b[39mdelta_0\u001b[38;5;241m*\u001b[39m\u001b[38;5;241m*\u001b[39m\u001b[38;5;241m3\u001b[39m))\u001b[38;5;241m/\u001b[39m\u001b[38;5;241m2\u001b[39m)\u001b[38;5;241m*\u001b[39m\u001b[38;5;241m*\u001b[39m(\u001b[38;5;241m1\u001b[39m\u001b[38;5;241m/\u001b[39m\u001b[38;5;241m3\u001b[39m)\n",
      "\u001b[1;31mTypeError\u001b[0m: unsupported operand type(s) for ** or pow(): 'str' and 'int'"
     ]
    }
   ],
   "source": [
    "a = input((\"Enter coefficient of x^3:\"))\n",
    "b = input((\"Enter coefficient of x^2:\"))\n",
    "c = input((\"Enter coefficient of x:\"))\n",
    "d = input((\"Enter  D:\"))\n",
    "\n",
    "delta_0 = b**2 - 3*a*c\n",
    "delta_1 = 2*b**3 - 9*a*b*c + 27*a**2*d\n",
    "C = ((delta_1 + cmath.sqrt(delta_1**2 - 4*delta_0**3))/2)**(1/3)\n",
    "u_1 = cmath.sqrt(-1 + 3**(1/2)*1j)/2\n",
    "u_2 = -1*u_1\n",
    "\n",
    "root_1 = (-1/(3*a))*(b + C + delta_0/C)\n",
    "root_2 = (-1/(3*a))*(b + u_1*C + delta_0/(u_1*C))\n",
    "root_3 = (-1/(3*a))*(b + u_2*C + delta_0/(u_2*C))\n",
    "\n",
    "\n",
    "print(\"The roots of the cubic equation are:\")\n",
    "print(\"Root 1:\", root_1)\n",
    "print(\"Root 2:\", root_2)\n",
    "print(\"Root 3:\", root_3)"
   ]
  },
  {
   "cell_type": "code",
   "execution_count": 4,
   "id": "fdb88f97",
   "metadata": {},
   "outputs": [
    {
     "name": "stdout",
     "output_type": "stream",
     "text": [
      "Enter coefficient of x^3: 5\n",
      "Enter coefficient of x^2: 7\n",
      "Enter coefficient of x: 9\n",
      "Enter D: 2\n",
      "The roots of the cubic equation are:\n",
      "Root 1: (-0.2671346065646489+0j)\n",
      "Root 2: (-0.13943983447257563-1.211568762303653j)\n",
      "Root 3: (-0.7938934988607578+1.211568762303653j)\n"
     ]
    }
   ],
   "source": [
    "\n",
    "\n",
    "# Get the coefficients of the cubic equation from user input\n",
    "a = float(input(\"Enter coefficient of x^3: \"))\n",
    "b = float(input(\"Enter coefficient of x^2: \"))\n",
    "c = float(input(\"Enter coefficient of x: \"))\n",
    "d = float(input(\"Enter D: \"))\n",
    "\n",
    "# Calculate the discriminant and other necessary values\n",
    "delta_0 = b**2 - 3*a*c\n",
    "delta_1 = 2*b**3 - 9*a*b*c + 27*a**2*d\n",
    "C = ((delta_1 + cmath.sqrt(delta_1**2 - 4*delta_0**3))/2)**(1/3)\n",
    "u_1 = cmath.sqrt(-1 + 3**(1/2)*1j)/2\n",
    "u_2 = -1*u_1\n",
    "\n",
    "# Calculate the roots of the cubic equation\n",
    "root_1 = (-1/(3*a))*(b + C + delta_0/C)\n",
    "root_2 = (-1/(3*a))*(b + u_1*C + delta_0/(u_1*C))\n",
    "root_3 = (-1/(3*a))*(b + u_2*C + delta_0/(u_2*C))\n",
    "\n",
    "# Print the roots\n",
    "print(\"The roots of the cubic equation are:\")\n",
    "print(\"Root 1:\", root_1)\n",
    "print(\"Root 2:\", root_2)\n",
    "print(\"Root 3:\", root_3)\n"
   ]
  },
  {
   "cell_type": "code",
   "execution_count": 5,
   "id": "58961e65",
   "metadata": {},
   "outputs": [
    {
     "name": "stdout",
     "output_type": "stream",
     "text": [
      "Enter coefficient of x^4: 5\n",
      "Enter coefficient of x^3: 6\n",
      "Enter coefficient of x^2: 7\n",
      "Enter coefficient of x: 3\n",
      "Enter constant term: 2\n"
     ]
    },
    {
     "ename": "NameError",
     "evalue": "name 'math' is not defined",
     "output_type": "error",
     "traceback": [
      "\u001b[1;31m---------------------------------------------------------------------------\u001b[0m",
      "\u001b[1;31mNameError\u001b[0m                                 Traceback (most recent call last)",
      "Cell \u001b[1;32mIn[5], line 21\u001b[0m\n\u001b[0;32m     18\u001b[0m     \u001b[38;5;28mprint\u001b[39m(\u001b[38;5;124m\"\u001b[39m\u001b[38;5;124mThe quartic equation has no real roots.\u001b[39m\u001b[38;5;124m\"\u001b[39m)\n\u001b[0;32m     19\u001b[0m \u001b[38;5;28;01melse\u001b[39;00m:\n\u001b[0;32m     20\u001b[0m     \u001b[38;5;66;03m# Calculate the real roots of the resolvent cubic equation\u001b[39;00m\n\u001b[1;32m---> 21\u001b[0m     R \u001b[38;5;241m=\u001b[39m \u001b[43mmath\u001b[49m\u001b[38;5;241m.\u001b[39msqrt(\u001b[38;5;241m-\u001b[39mg\u001b[38;5;241m/\u001b[39m\u001b[38;5;241m2\u001b[39m \u001b[38;5;241m+\u001b[39m math\u001b[38;5;241m.\u001b[39msqrt(delta_0))\n\u001b[0;32m     22\u001b[0m     S \u001b[38;5;241m=\u001b[39m math\u001b[38;5;241m.\u001b[39msqrt(\u001b[38;5;241m-\u001b[39mg\u001b[38;5;241m/\u001b[39m\u001b[38;5;241m2\u001b[39m \u001b[38;5;241m-\u001b[39m math\u001b[38;5;241m.\u001b[39msqrt(delta_0))\n\u001b[0;32m     23\u001b[0m     \u001b[38;5;66;03m# Calculate the four roots of the quartic equation\u001b[39;00m\n",
      "\u001b[1;31mNameError\u001b[0m: name 'math' is not defined"
     ]
    }
   ],
   "source": [
    "import math \n",
    "\n",
    "# Get the coefficients of the quartic equation from user input\n",
    "a = float(input(\"Enter coefficient of x^4: \"))\n",
    "b = float(input(\"Enter coefficient of x^3: \"))\n",
    "c = float(input(\"Enter coefficient of x^2: \"))\n",
    "d = float(input(\"Enter coefficient of x: \"))\n",
    "e = float(input(\"Enter constant term: \"))\n",
    "\n",
    "# Calculate intermediate values\n",
    "f = (8*a*c - 3*b**2)/(8*a**2)\n",
    "g = (b**3 - 4*a*b*c + 8*a**2*d)/(8*a**3)\n",
    "h = (16*a**2*e - 3*b**4 - 8*a*b**2*d + 16*a*b*c)/(16*a**4)\n",
    "\n",
    "# Calculate discriminant of the resolvent cubic equation\n",
    "delta_0 = g**2/4 - f*h\n",
    "\n",
    "# If delta_0 is negative, there are no real roots\n",
    "if delta_0 < 0:\n",
    "    print(\"The quartic equation has no real roots.\")\n",
    "else:\n",
    "    # Calculate the real roots of the resolvent cubic equation\n",
    "    R = math.sqrt(-g/2 + math.sqrt(delta_0))\n",
    "    S = math.sqrt(-g/2 - math.sqrt(delta_0))\n",
    "    # Calculate the four roots of the quartic equation\n",
    "    root_1 = (-b/(4*a) + (R + S) / 2)\n",
    "    root_2 = (-b/(4*a) + (R - S) / 2)\n",
    "    root_3 = (-b/(4*a) - (R + S) / 2)\n",
    "    root_4 = (-b/(4*a) - (R - S) / 2)\n",
    "    # Output the roots\n",
    "    print(\"The roots of the quartic equation are:\")\n",
    "    print(\"Root 1:\", root_1)\n",
    "    print(\"Root 2:\", root_2)\n",
    "    print(\"Root 3:\", root_3)\n",
    "    print(\"Root 4:\", root_4)\n"
   ]
  },
  {
   "cell_type": "code",
   "execution_count": null,
   "id": "ff6562f8",
   "metadata": {},
   "outputs": [],
   "source": []
  }
 ],
 "metadata": {
  "kernelspec": {
   "display_name": "Python 3 (ipykernel)",
   "language": "python",
   "name": "python3"
  },
  "language_info": {
   "codemirror_mode": {
    "name": "ipython",
    "version": 3
   },
   "file_extension": ".py",
   "mimetype": "text/x-python",
   "name": "python",
   "nbconvert_exporter": "python",
   "pygments_lexer": "ipython3",
   "version": "3.10.9"
  }
 },
 "nbformat": 4,
 "nbformat_minor": 5
}
