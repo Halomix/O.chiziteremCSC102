{
 "cells": [
  {
   "cell_type": "code",
   "execution_count": 7,
   "id": "22153cc7",
   "metadata": {},
   "outputs": [
    {
     "name": "stdout",
     "output_type": "stream",
     "text": [
      "What club do you support : TSG_walker\n",
      "You are not a fan of any club\n"
     ]
    }
   ],
   "source": [
    "from abc import  ABC\n",
    "class coup_de_ecriva(ABC):\n",
    "    \n",
    "    def  Fan_Page(self):\n",
    "        pass\n",
    "class FC_Cirok(coup_de_ecriva):\n",
    "    \n",
    "    def Fan_Page(self, fan):\n",
    "        print(f\"\\n Welcome {fan} fan \")\n",
    "       \n",
    "    \n",
    "class Madiba_FC(coup_de_ecriva):\n",
    "    def Fan_Page(self, fan):\n",
    "        print(f\"\\n Welcome {fan} fan \")\n",
    "    \n",
    "\n",
    "class Blue_Jay_FC(coup_de_ecriva):\n",
    "    \n",
    "    def Fan_Page(self, fan):\n",
    "        print(f\"\\n Welcome {fan} fan \")\n",
    "    \n",
    "\n",
    "class  TSG_Walker(coup_de_ecriva):\n",
    "    \n",
    "     def Fan_Page(self, fan):\n",
    "        print(f\"\\n Welcome {fan} fan \")\n",
    "    \n",
    "fan = input(\"What club do you support : \")\n",
    "\n",
    "if fan == \"Madiba_FC\":\n",
    "    M = Madiba_FC()\n",
    "    M.Fan_Page(fan)\n",
    "elif fan == \"Blue_Jay_FC\":\n",
    "    B = Blue_Jay_FC()\n",
    "    B.Fan_page(fan)\n",
    "elif fan == \"TSG_Walker\":\n",
    "    T  = TSG_Walker()\n",
    "    T.Fan_Page(fan)\n",
    "else:\n",
    "    print(\"You are not a fan of any club\")\n",
    "\n",
    "    \n",
    "    \n",
    "    \n",
    "    \n",
    "        "
   ]
  },
  {
   "cell_type": "code",
   "execution_count": 11,
   "id": "3f54dba6",
   "metadata": {},
   "outputs": [
    {
     "name": "stdout",
     "output_type": "stream",
     "text": [
      "Which vendor would you like their menu: cooperative_cafeteria\n",
      "              Main meal Price(N)\n",
      "0  Jollof rice and Stew      200\n",
      "1   White rice and stew      200\n",
      "2            Fried rice      200\n",
      "3                 salad      100\n",
      "4             plaintain      100\n"
     ]
    }
   ],
   "source": [
    "from abc import ABC\n",
    "import pandas as pd\n",
    "\n",
    "\n",
    "class External_Vendors(ABC):\n",
    "    def menu(self):\n",
    "        pass\n",
    "\n",
    "\n",
    "class cooperative_cafeteria(External_Vendors):\n",
    "    def menu(self):\n",
    "        data = {'Main meal': ['Jollof rice and Stew', 'White rice and stew', 'Fried rice', 'salad', 'plaintain'],\n",
    "                'Price(N)': ['200', '200', '200', '100', '100']}\n",
    "        df = pd.DataFrame(data)\n",
    "        print(df[['Main meal', 'Price(N)']])\n",
    "\n",
    "\n",
    "class faith_hostel_cafteria(External_Vendors):\n",
    "    def menu(self):\n",
    "        data = {'Main meal': ['Fried rice', 'White rice and stew', 'Jollof rice', 'Beans', 'Chicken'],\n",
    "                'Price(N)': ['400', '400', '400', '200', '1000']}\n",
    "        df = pd.DataFrame(data)\n",
    "        print(df[['Main meal', 'Price(N)']])\n",
    "\n",
    "\n",
    "class student_centre_cafeteria(External_Vendors):\n",
    "    def menu(self):\n",
    "        data = {'Main meal': ['Chicken Fried rice', 'Pomo sauce', 'Spaghetti Jollof', 'Amala /Ewedu', 'Semo with Eforiro Soup'],\n",
    "                'Price(N)': ['800', '300', '500', '500', '500']}\n",
    "        df = pd.DataFrame(data)\n",
    "        print(df[['Main meal', 'Price(N)']])\n",
    "\n",
    "\n",
    "Vendor = input(\"Which vendor would you like their menu: \")\n",
    "\n",
    "if Vendor == \"cooperative_cafeteria\":\n",
    "    C = cooperative_cafeteria()\n",
    "    C.menu()\n",
    "elif Vendor == \"faith_hostel_cafteria\":\n",
    "    f = faith_hostel_cafteria()\n",
    "    f.menu()\n",
    "elif Vendor == \"student_centre_cafeteria\":\n",
    "    s = student_centre_cafeteria()\n",
    "    s.menu()\n",
    "else:\n",
    "    print(\"Invalid input\")\n"
   ]
  },
  {
   "cell_type": "code",
   "execution_count": null,
   "id": "a087605d",
   "metadata": {},
   "outputs": [],
   "source": []
  }
 ],
 "metadata": {
  "kernelspec": {
   "display_name": "Python 3 (ipykernel)",
   "language": "python",
   "name": "python3"
  },
  "language_info": {
   "codemirror_mode": {
    "name": "ipython",
    "version": 3
   },
   "file_extension": ".py",
   "mimetype": "text/x-python",
   "name": "python",
   "nbconvert_exporter": "python",
   "pygments_lexer": "ipython3",
   "version": "3.10.9"
  }
 },
 "nbformat": 4,
 "nbformat_minor": 5
}
