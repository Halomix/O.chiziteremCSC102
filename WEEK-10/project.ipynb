{
 "cells": [
  {
   "cell_type": "code",
   "execution_count": 4,
   "id": "2e382f63",
   "metadata": {},
   "outputs": [
    {
     "name": "stdout",
     "output_type": "stream",
     "text": [
      "HOW MANY ORANGES WOULD YOU LIKE TO BUY: 5\n",
      "Total cost: 250\n",
      "Thanks for your pratronage\n"
     ]
    }
   ],
   "source": [
    "class Oranges:\n",
    "    def __init__(self):\n",
    "        self.stock = 50\n",
    "\n",
    "    def buy_oranges(self):\n",
    "        input1 = int(input(\"HOW MANY ORANGES WOULD YOU LIKE TO BUY: \"))\n",
    "        if input1 > self.stock:\n",
    "            print(\"Select a quantity less than or equal to\", self.stock)\n",
    "        else:\n",
    "            self.calculate_cost(input1)\n",
    "\n",
    "    def calculate_cost(self, quantity):\n",
    "        one_piece_cost = 50\n",
    "        total_cost = one_piece_cost * quantity\n",
    "        print(\"Total cost:\", total_cost)\n",
    "        print(\"Thanks for your pratronage\")\n",
    "\n",
    "oranges = Oranges()\n",
    "oranges.buy_oranges()\n",
    "\n",
    "        "
   ]
  },
  {
   "cell_type": "code",
   "execution_count": 9,
   "id": "c2f4aa00",
   "metadata": {},
   "outputs": [
    {
     "name": "stdout",
     "output_type": "stream",
     "text": [
      "What would you like to calculate?\n",
      "A. area of a trapezium\n",
      "B. area of a rhombus\n",
      "C. area of a parallelogram\n",
      "D. area of cylinder\n",
      "E. area of cube\n",
      "A\n",
      "Enter Height: 3\n",
      "Enter Base1: 5\n",
      "Enter Base2: 4\n",
      "AREA = 13.5\n"
     ]
    }
   ],
   "source": [
    "class Calculations:\n",
    "    def __init__(self):\n",
    "        pass\n",
    "\n",
    "    def trapezium(self):\n",
    "        Height = float(input(\"Enter Height: \"))\n",
    "        base1 = float(input(\"Enter Base1: \"))\n",
    "        base2 = float(input(\"Enter Base2: \"))\n",
    "        Area = Height / 2 * (base1 + base2)\n",
    "        print(\"AREA =\", Area)\n",
    "\n",
    "    def rhombus(self):\n",
    "        Diagonal1 = float(input(\"Enter Diagonal1: \"))\n",
    "        Diagonal2 = float(input(\"Enter Diagonal2: \"))\n",
    "        Area = 0.5 * Diagonal1 * Diagonal2\n",
    "        print(\"AREA =\", Area)\n",
    "\n",
    "    def parallelogram(self):\n",
    "        Base = float(input(\"Enter Base: \"))\n",
    "        Altitude = float(input(\"Enter Altitude: \"))\n",
    "        Area = Base * Altitude\n",
    "        print(\"AREA =\", Area)\n",
    "\n",
    "    def cube(self):\n",
    "        Length_of_the_side = float(input(\"Enter length of side: \"))\n",
    "        Area = 6 * Length_of_the_side ** 2\n",
    "        print(\"AREA =\", Area)\n",
    "\n",
    "    def cylinder(self):\n",
    "        Radius = float(input(\"Enter Radius: \"))\n",
    "        Height = float(input(\"Enter Height: \"))\n",
    "        Area = 3.14 * Radius * 2 * Height\n",
    "        print(\"AREA =\", Area)\n",
    "\n",
    "    def use_formula(self):\n",
    "        Input1 = input(\"What would you like to calculate?\\nA. area of a trapezium\\nB. area of a rhombus\\nC. area of a parallelogram\\nD. area of cylinder\\nE. area of cube\\n\")\n",
    "\n",
    "        if Input1 == 'A':\n",
    "            self.trapezium()\n",
    "        elif Input1 == 'B':\n",
    "            self.rhombus()\n",
    "        elif Input1 == 'C':\n",
    "            self.parallelogram()\n",
    "        elif Input1 == 'D':\n",
    "            self.cylinder()\n",
    "        elif Input1 == 'E':\n",
    "            self.cube()\n",
    "        else:\n",
    "            print(\"Invalid entry\")\n",
    "\n",
    "\n",
    "calculate = Calculations()\n",
    "calculate.use_formula()\n",
    "\n",
    "     \n",
    "    "
   ]
  },
  {
   "cell_type": "code",
   "execution_count": 4,
   "id": "54636232",
   "metadata": {},
   "outputs": [
    {
     "name": "stdout",
     "output_type": "stream",
     "text": [
      "Welcome to Nigerian Breweries Plc\n",
      "\n"
     ]
    }
   ],
   "source": [
    "\n",
    "\n",
    "import pandas as pd\n",
    "\n",
    "class Nigerian_Breweries_Plc():\n",
    "    def __init__(self):\n",
    "        pass\n",
    "    \n",
    "    def record(self):\n",
    "        print(\"Welcome to Nigerian Breweries Plc\\n\")\n",
    "        record = {\n",
    "            'Lager': ['33 export', 'Desparados', 'Goldberg', 'Gulder', 'Heineken', 'Star'],\n",
    "            'Stout': ['Legend', 'Turbo King', 'Williams', 'N/A', 'N/A', 'N/A'],\n",
    "            'Non-Alcoholic': ['Maltina', 'Amstel', 'Amstel Malta', 'Malta Gold', 'Fayrouz', 'N/A']\n",
    "        }\n",
    "        df = pd.DataFrame(record)\n",
    "        df.to_csv('record.csv')\n",
    "\n",
    "records = Nigerian_Breweries_Plc()\n",
    "records.record()\n",
    "\n",
    "\n",
    "        "
   ]
  },
  {
   "cell_type": "code",
   "execution_count": null,
   "id": "b0f6aabb",
   "metadata": {},
   "outputs": [],
   "source": []
  }
 ],
 "metadata": {
  "kernelspec": {
   "display_name": "Python 3 (ipykernel)",
   "language": "python",
   "name": "python3"
  },
  "language_info": {
   "codemirror_mode": {
    "name": "ipython",
    "version": 3
   },
   "file_extension": ".py",
   "mimetype": "text/x-python",
   "name": "python",
   "nbconvert_exporter": "python",
   "pygments_lexer": "ipython3",
   "version": "3.10.9"
  }
 },
 "nbformat": 4,
 "nbformat_minor": 5
}
