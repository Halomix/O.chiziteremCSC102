{
 "cells": [
  {
   "cell_type": "code",
   "execution_count": 5,
   "id": "2e382f63",
   "metadata": {},
   "outputs": [
    {
     "name": "stdout",
     "output_type": "stream",
     "text": [
      "HOW MANY ORANGES WOULD YOU LIKE TO BUY: 5\n"
     ]
    },
    {
     "ename": "NameError",
     "evalue": "name 'input1' is not defined",
     "output_type": "error",
     "traceback": [
      "\u001b[1;31m---------------------------------------------------------------------------\u001b[0m",
      "\u001b[1;31mNameError\u001b[0m                                 Traceback (most recent call last)",
      "Cell \u001b[1;32mIn[5], line 21\u001b[0m\n\u001b[0;32m     18\u001b[0m         \u001b[38;5;28mprint\u001b[39m(\u001b[38;5;124m\"\u001b[39m\u001b[38;5;124mThanks for your pratronage\u001b[39m\u001b[38;5;124m\"\u001b[39m)\n\u001b[0;32m     20\u001b[0m oranges \u001b[38;5;241m=\u001b[39m Oranges()\n\u001b[1;32m---> 21\u001b[0m \u001b[43moranges\u001b[49m\u001b[38;5;241;43m.\u001b[39;49m\u001b[43mbuy_oranges\u001b[49m\u001b[43m(\u001b[49m\u001b[43m)\u001b[49m\n",
      "Cell \u001b[1;32mIn[5], line 11\u001b[0m, in \u001b[0;36mOranges.buy_oranges\u001b[1;34m(self)\u001b[0m\n\u001b[0;32m      9\u001b[0m     \u001b[38;5;28mprint\u001b[39m(\u001b[38;5;124m\"\u001b[39m\u001b[38;5;124mSelect a quantity less than or equal to\u001b[39m\u001b[38;5;124m\"\u001b[39m, \u001b[38;5;28mself\u001b[39m\u001b[38;5;241m.\u001b[39mstock)\n\u001b[0;32m     10\u001b[0m \u001b[38;5;28;01melse\u001b[39;00m:\n\u001b[1;32m---> 11\u001b[0m     \u001b[38;5;28;43mself\u001b[39;49m\u001b[38;5;241;43m.\u001b[39;49m\u001b[43mcalculate_cost\u001b[49m\u001b[43m(\u001b[49m\u001b[43m)\u001b[49m\n",
      "Cell \u001b[1;32mIn[5], line 14\u001b[0m, in \u001b[0;36mOranges.calculate_cost\u001b[1;34m(self)\u001b[0m\n\u001b[0;32m     13\u001b[0m \u001b[38;5;28;01mdef\u001b[39;00m \u001b[38;5;21mcalculate_cost\u001b[39m(\u001b[38;5;28mself\u001b[39m ):\n\u001b[1;32m---> 14\u001b[0m     quantity \u001b[38;5;241m=\u001b[39m \u001b[43minput1\u001b[49m\n\u001b[0;32m     15\u001b[0m     one_piece_cost \u001b[38;5;241m=\u001b[39m \u001b[38;5;241m50\u001b[39m\n\u001b[0;32m     16\u001b[0m     total_cost \u001b[38;5;241m=\u001b[39m one_piece_cost \u001b[38;5;241m*\u001b[39m quantity\n",
      "\u001b[1;31mNameError\u001b[0m: name 'input1' is not defined"
     ]
    }
   ],
   "source": [
    "class Oranges:\n",
    "    def __init__(self):\n",
    "        self.stock = 50\n",
    "        \n",
    "\n",
    "    def buy_oranges(self):\n",
    "        input1 = int(input(\"HOW MANY ORANGES WOULD YOU LIKE TO BUY: \"))\n",
    "        if input1 > self.stock:\n",
    "            print(\"Select a quantity less than or equal to\", self.stock)\n",
    "        else:\n",
    "            self.calculate_cost()\n",
    "\n",
    "    def calculate_cost(self):\n",
    "        quantity = input1\n",
    "        one_piece_cost = 50\n",
    "        total_cost = one_piece_cost * quantity\n",
    "        print(\"Total cost:\", total_cost)\n",
    "        print(\"Thanks for your pratronage\")\n",
    "\n",
    "oranges = Oranges()\n",
    "oranges.buy_oranges()\n",
    "\n",
    "        "
   ]
  },
  {
   "cell_type": "code",
   "execution_count": null,
   "id": "c2f4aa00",
   "metadata": {},
   "outputs": [],
   "source": [
    "class Calculations:\n",
    "    def __init__(self):\n",
    "        pass\n",
    "\n",
    "    def trapezium(self):\n",
    "        Height = float(input(\"Enter Height: \"))\n",
    "        base1 = float(input(\"Enter Base1: \"))\n",
    "        base2 = float(input(\"Enter Base2: \"))\n",
    "        Area = Height / 2 * (base1 + base2)\n",
    "        print(\"AREA =\", Area)\n",
    "\n",
    "    def rhombus(self):\n",
    "        Diagonal1 = float(input(\"Enter Diagonal1: \"))\n",
    "        Diagonal2 = float(input(\"Enter Diagonal2: \"))\n",
    "        Area = 0.5 * Diagonal1 * Diagonal2\n",
    "        print(\"AREA =\", Area)\n",
    "\n",
    "    def parallelogram(self):\n",
    "        Base = float(input(\"Enter Base: \"))\n",
    "        Altitude = float(input(\"Enter Altitude: \"))\n",
    "        Area = Base * Altitude\n",
    "        print(\"AREA =\", Area)\n",
    "\n",
    "    def cube(self):\n",
    "        Length_of_the_side = float(input(\"Enter length of side: \"))\n",
    "        Area = 6 * Length_of_the_side ** 2\n",
    "        print(\"AREA =\", Area)\n",
    "\n",
    "    def cylinder(self):\n",
    "        Radius = float(input(\"Enter Radius: \"))\n",
    "        Height = float(input(\"Enter Height: \"))\n",
    "        Area = 3.14 * Radius * 2 * Height\n",
    "        print(\"AREA =\", Area)\n",
    "\n",
    "    def use_formula(self):\n",
    "        Input1 = input(\"What would you like to calculate?\\nA. area of a trapezium\\nB. area of a rhombus\\nC. area of a parallelogram\\nD. area of cylinder\\nE. area of cube\\n\")\n",
    "\n",
    "        if Input1 == 'A':\n",
    "            self.trapezium()\n",
    "        elif Input1 == 'B':\n",
    "            self.rhombus()\n",
    "        elif Input1 == 'C':\n",
    "            self.parallelogram()\n",
    "        elif Input1 == 'D':\n",
    "            self.cylinder()\n",
    "        elif Input1 == 'E':\n",
    "            self.cube()\n",
    "        else:\n",
    "            print(\"Invalid entry\")\n",
    "\n",
    "\n",
    "calculate = Calculations()\n",
    "calculate.use_formula()\n",
    "\n",
    "     \n",
    "    "
   ]
  },
  {
   "cell_type": "code",
   "execution_count": 4,
   "id": "54636232",
   "metadata": {},
   "outputs": [
    {
     "name": "stdout",
     "output_type": "stream",
     "text": [
      "Welcome to Nigerian Breweries Plc\n",
      "\n"
     ]
    }
   ],
   "source": [
    "\n",
    "\n",
    "import pandas as pd\n",
    "\n",
    "class Nigerian_Breweries_Plc():\n",
    "    def __init__(self):\n",
    "        pass\n",
    "    \n",
    "    def record(self):\n",
    "        print(\"Welcome to Nigerian Breweries Plc\\n\")\n",
    "        record = {\n",
    "            'Lager': ['33 export', 'Desparados', 'Goldberg', 'Gulder', 'Heineken', 'Star'],\n",
    "            'Stout': ['Legend', 'Turbo King', 'Williams', 'N/A', 'N/A', 'N/A'],\n",
    "            'Non-Alcoholic': ['Maltina', 'Amstel', 'Amstel Malta', 'Malta Gold', 'Fayrouz', 'N/A']\n",
    "        }\n",
    "        df = pd.DataFrame(record)\n",
    "        df.to_csv('record.csv')\n",
    "\n",
    "records = Nigerian_Breweries_Plc()\n",
    "records.record()\n",
    "\n",
    "\n",
    "        "
   ]
  },
  {
   "cell_type": "code",
   "execution_count": null,
   "id": "b0f6aabb",
   "metadata": {},
   "outputs": [],
   "source": []
  }
 ],
 "metadata": {
  "kernelspec": {
   "display_name": "Python 3 (ipykernel)",
   "language": "python",
   "name": "python3"
  },
  "language_info": {
   "codemirror_mode": {
    "name": "ipython",
    "version": 3
   },
   "file_extension": ".py",
   "mimetype": "text/x-python",
   "name": "python",
   "nbconvert_exporter": "python",
   "pygments_lexer": "ipython3",
   "version": "3.10.9"
  }
 },
 "nbformat": 4,
 "nbformat_minor": 5
}
