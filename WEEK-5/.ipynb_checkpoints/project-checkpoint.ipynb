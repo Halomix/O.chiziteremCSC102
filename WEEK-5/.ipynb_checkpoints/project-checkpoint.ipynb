{
 "cells": [
  {
   "cell_type": "code",
   "execution_count": 36,
   "metadata": {
    "scrolled": false
   },
   "outputs": [
    {
     "name": "stdout",
     "output_type": "stream",
     "text": [
      "Names    Age Height Scores\n",
      "----------------------------\n",
      "Samantha  17   5.5     80  \n",
      "Jada      16   6.0     85  \n",
      "Jane      17   5.4     70  \n",
      "Claire    18   5.9     60  \n",
      "Elizabeth 16   5.6     76  \n",
      "Mary      18   5.5     66  \n",
      "Susan     17   6.1     87  \n",
      "Waje      20   6.0     95  \n",
      "Taibat    19   5.7     50  \n",
      "Lilian    17   5.5     49  \n"
     ]
    }
   ],
   "source": [
    "\n",
    "Names = ['Samantha', 'Jada', 'Jane', 'Claire', 'Elizabeth', 'Mary', 'Susan', 'Waje', 'Taibat', 'Lilian']\n",
    "Age = [17, 16, 17, 18, 16, 18, 17, 20, 19, 17]\n",
    "Height = [5.5, 6.0, 5.4, 5.9, 5.6, 5.5, 6.1, 6.0, 5.7, 5.5]\n",
    "Scores = [80, 85, 70, 60, 76, 66, 87, 95, 50, 49]\n",
    "\n",
    "print(\"Names\".ljust(10)+\"Age\".ljust(3)+\"Height\".center(8)+\"Scores\".center(6))\n",
    "print(\"----------------------------\")\n",
    "\n",
    "for (name, age, height, score) in zip(Names, Age, Height, Scores):\n",
    "    text= str(name).ljust(10)+str(age).ljust(3)+str(height).center(8)+str(score).center(6)\n",
    "    print(text)\n",
    "    #print(name,age, height, score)\n",
    "\n",
    "\n",
    "\n",
    "\n",
    "\n"
   ]
  },
  {
   "cell_type": "code",
   "execution_count": null,
   "metadata": {},
   "outputs": [],
   "source": [
    "print(\"AtrGenerator\")\n",
    "Age = int(input(\"Enter age : \"))\n",
    "Exp = float(input(\"Enter EXP(YEARS) : \"))\n",
    "ATR = 0 \n",
    "\n",
    "if Exp > 25 :\n",
    "    if Age >= 55 :\n",
    "        ATR = 5_600_000\n",
    "        print(\"Your ATR is : \", ATR)\n",
    "\n",
    "\n",
    "\n"
   ]
  },
  {
   "cell_type": "code",
   "execution_count": null,
   "metadata": {},
   "outputs": [],
   "source": []
  },
  {
   "cell_type": "code",
   "execution_count": null,
   "metadata": {},
   "outputs": [],
   "source": []
  }
 ],
 "metadata": {
  "kernelspec": {
   "display_name": "Python 3 (ipykernel)",
   "language": "python",
   "name": "python3"
  },
  "language_info": {
   "codemirror_mode": {
    "name": "ipython",
    "version": 3
   },
   "file_extension": ".py",
   "mimetype": "text/x-python",
   "name": "python",
   "nbconvert_exporter": "python",
   "pygments_lexer": "ipython3",
   "version": "3.10.9"
  }
 },
 "nbformat": 4,
 "nbformat_minor": 4
}
