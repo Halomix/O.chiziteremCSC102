{
 "cells": [
  {
   "cell_type": "code",
   "execution_count": 1,
   "id": "6bc7f4ee",
   "metadata": {},
   "outputs": [
    {
     "name": "stdout",
     "output_type": "stream",
     "text": [
      "100\n",
      "Data Type of variable num is  <class 'int'>\n",
      "34.45\n",
      "Data Type of variable num is  <class 'float'>\n",
      "(3+4j)\n",
      "Data Type of variable num is  <class 'float'>\n"
     ]
    }
   ],
   "source": [
    "#Integer number\n",
    "num = 100\n",
    "print(num\"\n",
    "print(\"Data Type of variable num is \", type(num))\n",
    "\n",
    "#float number\n",
    "fnum= 34.45\n",
    "print(fnum)\n",
    "print(\"Data Type of variable num is \", type(fnum))\n",
    "\n",
    "# complex number\n",
    "cnum = 3 + 4j\n",
    "print(cnum)\n",
    "print(\"Data Type of variable num is \", type(fnum))\n"
   ]
  },
  {
   "cell_type": "code",
   "execution_count": 3,
   "id": "8af94371",
   "metadata": {},
   "outputs": [
    {
     "name": "stdout",
     "output_type": "stream",
     "text": [
      "Hi my name is Matthew, I am String\n",
      "<class 'str'>\n",
      "Hi my name is precious. I am also String\n",
      "<class 'str'>\n"
     ]
    }
   ],
   "source": [
    "#python program to print strings and type\n",
    "str1 = \"Hi my name is Matthew, I am String\"\n",
    "str2 = \"Hi my name is precious. I am also String\"\n",
    "\n",
    "#displaying string str1 and its type\n",
    "print(str1)\n",
    "print(type(str1))\n",
    "\n",
    "#displaying string str2 and its type\n",
    "print(str2)\n",
    "print(type(str2))"
   ]
  },
  {
   "cell_type": "code",
   "execution_count": null,
   "id": "e077956a",
   "metadata": {},
   "outputs": [],
   "source": []
  }
 ],
 "metadata": {
  "kernelspec": {
   "display_name": "Python 3 (ipykernel)",
   "language": "python",
   "name": "python3"
  },
  "language_info": {
   "codemirror_mode": {
    "name": "ipython",
    "version": 3
   },
   "file_extension": ".py",
   "mimetype": "text/x-python",
   "name": "python",
   "nbconvert_exporter": "python",
   "pygments_lexer": "ipython3",
   "version": "3.10.9"
  }
 },
 "nbformat": 4,
 "nbformat_minor": 5
}
