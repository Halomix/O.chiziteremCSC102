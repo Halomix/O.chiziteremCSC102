{
 "cells": [
  {
   "cell_type": "code",
   "execution_count": 1,
   "id": "83af16dd",
   "metadata": {},
   "outputs": [
    {
     "name": "stdout",
     "output_type": "stream",
     "text": [
      "Simple interest calculator\n",
      "Enter your principal amount: 5000\n",
      "Enter your interest rate in percentage: 4\n",
      "Enter your number of years on simple interest: 6\n",
      "Your interest is: 1200.0\n"
     ]
    }
   ],
   "source": [
    "print(\"Simple interest calculator\")\n",
    "\n",
    "principal = float(input(\"Enter your principal amount: \"))\n",
    "rate = float(input(\"Enter your interest rate in percentage: \"))\n",
    "time = float(input(\"Enter your number of years on simple interest: \"))\n",
    "\n",
    "simple_interest = (principal * rate * time) / 100\n",
    "\n",
    "print(\"Your interest is:\", simple_interest)"
   ]
  },
  {
   "cell_type": "code",
   "execution_count": 4,
   "id": "4a023416",
   "metadata": {},
   "outputs": [
    {
     "name": "stdout",
     "output_type": "stream",
     "text": [
      "input the principal amount: 5000\n",
      "input the rate: 4\n",
      "How many years is your interest plan : 6\n",
      "Input the number of periods : 5\n",
      "The compound interest is  227585798039.51688\n"
     ]
    }
   ],
   "source": [
    "print(\"Compund interest Calculator\")\n",
    "principal = float(input(\"input the principal amount: \"))\n",
    "\n",
    "rate = float(input(\"input the rate: \"))\n",
    "\n",
    "time = float(input(\"How many years is your interest plan : \"))\n",
    "\n",
    "period = int(input(\"Input the number of periods : \"))\n",
    "\n",
    "\n",
    "R = rate /period\n",
    "\n",
    "Tperiod = period * time\n",
    "\n",
    "compound_interest = principal * (1 + R) ** Tperiod\n",
    "\n",
    "# Output\n",
    "print(\"The compound interest is \", compound_interest)"
   ]
  },
  {
   "cell_type": "code",
   "execution_count": null,
   "id": "e6ba403a",
   "metadata": {},
   "outputs": [
    {
     "name": "stdout",
     "output_type": "stream",
     "text": [
      "Annuity plan calculator\n"
     ]
    }
   ],
   "source": [
    "print(\"Annuity plan calculator\")\n",
    "p = int(input(\"Input Principal: \"))\n",
    "\n",
    "n = int(input(\"Input periods : \"))\n",
    "\n",
    "r = float(input(\"Input Rate : \"))\n",
    "\n",
    "t = int(input(\"Input Years : \"))\n",
    "\n",
    "y = r / n\n",
    "\n",
    "a = p * ((((1 + y) ** (n * t))-1) / y)\n",
    "\n",
    "print(\"Annuity Plan : \", a)"
   ]
  },
  {
   "cell_type": "code",
   "execution_count": null,
   "id": "240e8ffa",
   "metadata": {},
   "outputs": [],
   "source": []
  }
 ],
 "metadata": {
  "kernelspec": {
   "display_name": "Python 3 (ipykernel)",
   "language": "python",
   "name": "python3"
  },
  "language_info": {
   "codemirror_mode": {
    "name": "ipython",
    "version": 3
   },
   "file_extension": ".py",
   "mimetype": "text/x-python",
   "name": "python",
   "nbconvert_exporter": "python",
   "pygments_lexer": "ipython3",
   "version": "3.10.9"
  }
 },
 "nbformat": 4,
 "nbformat_minor": 5
}
